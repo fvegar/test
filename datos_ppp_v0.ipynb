{
 "cells": [
  {
   "cell_type": "markdown",
   "metadata": {},
   "source": [
    "# Processing of particle tracks \n",
    "### <font color='gray'>coded to work with experiments and simulation</font>"
   ]
  },
  {
   "cell_type": "code",
   "execution_count": 34,
   "metadata": {
    "collapsed": false
   },
   "outputs": [
    {
     "name": "stdout",
     "output_type": "stream",
     "text": [
      "Available matplotlib backends: ['ipympl', 'osx', 'qt4', 'qt5', 'qt', 'nbagg', 'ps', 'agg', 'svg', 'gtk', 'widget', 'gtk3', 'notebook', 'tk', 'inline', 'pdf', 'wx']\n"
     ]
    }
   ],
   "source": [
    "import numpy as np\n",
    "import pandas as pd\n",
    "import matplotlib.pyplot as plt\n",
    "\n",
    "from matplotlib import rc\n",
    "rc('text', usetex=True)\n",
    "plt.rcParams['font.size'] = 16\n",
    "import matplotlib.colors as mcolors\n",
    "\n",
    "import scipy.constants as ct\n",
    "import ipywidgets\n",
    "\n",
    "%matplotlib --list"
   ]
  },
  {
   "cell_type": "code",
   "execution_count": 35,
   "metadata": {
    "collapsed": false
   },
   "outputs": [],
   "source": [
    "%matplotlib inline"
   ]
  },
  {
   "cell_type": "code",
   "execution_count": 73,
   "metadata": {
    "collapsed": false
   },
   "outputs": [],
   "source": [
    "# READ DATA TABLE from text .dat file\n",
    "tabla = pd.read_table('pos_vel_ppp.dat',index_col=False)\n",
    "\n",
    "# Rename 'particle' column to 'trajec' and reorder table\n",
    "tabla.rename(columns={'particle': 'trajec'}, inplace=True)\n",
    "cols = ['trajec', 'frame', 'x', 'y', 'vx', 'vy']\n",
    "tabla = tabla[cols]"
   ]
  },
  {
   "cell_type": "code",
   "execution_count": 4,
   "metadata": {
    "collapsed": true
   },
   "outputs": [],
   "source": [
    "# Modified table stored into pickle binary format (faster, lighter)\n",
    "tabla.to_pickle('pppN110.pkl')"
   ]
  },
  {
   "cell_type": "code",
   "execution_count": 16,
   "metadata": {
    "collapsed": true
   },
   "outputs": [],
   "source": [
    "# Extract files from 7z compressed format (even lighter)\n",
    "def extractfiles(zipname):\n",
    "    system = subprocess.Popen([\"7z\", \"e\", zipname])\n",
    "    return(system.communicate())"
   ]
  },
  {
   "cell_type": "code",
   "execution_count": 18,
   "metadata": {
    "collapsed": false
   },
   "outputs": [
    {
     "data": {
      "text/plain": [
       "(None, None)"
      ]
     },
     "execution_count": 18,
     "metadata": {},
     "output_type": "execute_result"
    }
   ],
   "source": [
    "# Extract files command\n",
    "extractfiles('pppN110.7z')"
   ]
  },
  {
   "cell_type": "code",
   "execution_count": 26,
   "metadata": {
    "collapsed": true
   },
   "outputs": [],
   "source": [
    "# Read table in pickle format\n",
    "tabla = pd.read_pickle('pppN110.pkl')\n"
   ]
  },
  {
   "cell_type": "code",
   "execution_count": 117,
   "metadata": {
    "collapsed": false,
    "scrolled": true
   },
   "outputs": [
    {
     "data": {
      "text/html": [
       "<div>\n",
       "<table border=\"1\" class=\"dataframe\">\n",
       "  <thead>\n",
       "    <tr style=\"text-align: right;\">\n",
       "      <th></th>\n",
       "      <th>trajec</th>\n",
       "      <th>frame</th>\n",
       "      <th>x</th>\n",
       "      <th>y</th>\n",
       "      <th>vx</th>\n",
       "      <th>vy</th>\n",
       "    </tr>\n",
       "  </thead>\n",
       "  <tbody>\n",
       "    <tr>\n",
       "      <th>0</th>\n",
       "      <td>0</td>\n",
       "      <td>1</td>\n",
       "      <td>11.167238</td>\n",
       "      <td>12.610994</td>\n",
       "      <td>-0.001627</td>\n",
       "      <td>-0.001911</td>\n",
       "    </tr>\n",
       "    <tr>\n",
       "      <th>1</th>\n",
       "      <td>0</td>\n",
       "      <td>2</td>\n",
       "      <td>11.165611</td>\n",
       "      <td>12.609083</td>\n",
       "      <td>-0.001776</td>\n",
       "      <td>-0.001797</td>\n",
       "    </tr>\n",
       "    <tr>\n",
       "      <th>2</th>\n",
       "      <td>0</td>\n",
       "      <td>3</td>\n",
       "      <td>11.163685</td>\n",
       "      <td>12.607401</td>\n",
       "      <td>-0.002058</td>\n",
       "      <td>-0.001867</td>\n",
       "    </tr>\n",
       "    <tr>\n",
       "      <th>3</th>\n",
       "      <td>0</td>\n",
       "      <td>4</td>\n",
       "      <td>11.161494</td>\n",
       "      <td>12.605349</td>\n",
       "      <td>-0.001820</td>\n",
       "      <td>-0.003029</td>\n",
       "    </tr>\n",
       "    <tr>\n",
       "      <th>4</th>\n",
       "      <td>0</td>\n",
       "      <td>5</td>\n",
       "      <td>11.160046</td>\n",
       "      <td>12.601342</td>\n",
       "      <td>-0.001657</td>\n",
       "      <td>-0.003839</td>\n",
       "    </tr>\n",
       "    <tr>\n",
       "      <th>5</th>\n",
       "      <td>0</td>\n",
       "      <td>6</td>\n",
       "      <td>11.158181</td>\n",
       "      <td>12.597671</td>\n",
       "      <td>-0.001686</td>\n",
       "      <td>-0.003085</td>\n",
       "    </tr>\n",
       "    <tr>\n",
       "      <th>6</th>\n",
       "      <td>0</td>\n",
       "      <td>7</td>\n",
       "      <td>11.156674</td>\n",
       "      <td>12.595173</td>\n",
       "      <td>-0.001451</td>\n",
       "      <td>-0.002352</td>\n",
       "    </tr>\n",
       "    <tr>\n",
       "      <th>7</th>\n",
       "      <td>0</td>\n",
       "      <td>8</td>\n",
       "      <td>11.155278</td>\n",
       "      <td>12.592968</td>\n",
       "      <td>-0.002612</td>\n",
       "      <td>-0.002867</td>\n",
       "    </tr>\n",
       "    <tr>\n",
       "      <th>8</th>\n",
       "      <td>0</td>\n",
       "      <td>9</td>\n",
       "      <td>11.151451</td>\n",
       "      <td>12.589438</td>\n",
       "      <td>-0.002783</td>\n",
       "      <td>-0.002136</td>\n",
       "    </tr>\n",
       "    <tr>\n",
       "      <th>9</th>\n",
       "      <td>0</td>\n",
       "      <td>10</td>\n",
       "      <td>11.149712</td>\n",
       "      <td>12.588696</td>\n",
       "      <td>-0.002744</td>\n",
       "      <td>-0.002464</td>\n",
       "    </tr>\n",
       "    <tr>\n",
       "      <th>10</th>\n",
       "      <td>0</td>\n",
       "      <td>11</td>\n",
       "      <td>11.145962</td>\n",
       "      <td>12.584511</td>\n",
       "      <td>-0.002650</td>\n",
       "      <td>-0.002923</td>\n",
       "    </tr>\n",
       "    <tr>\n",
       "      <th>11</th>\n",
       "      <td>0</td>\n",
       "      <td>12</td>\n",
       "      <td>11.144413</td>\n",
       "      <td>12.582850</td>\n",
       "      <td>-0.001674</td>\n",
       "      <td>-0.002563</td>\n",
       "    </tr>\n",
       "    <tr>\n",
       "      <th>12</th>\n",
       "      <td>0</td>\n",
       "      <td>13</td>\n",
       "      <td>11.142614</td>\n",
       "      <td>12.579385</td>\n",
       "      <td>-0.002200</td>\n",
       "      <td>-0.002866</td>\n",
       "    </tr>\n",
       "    <tr>\n",
       "      <th>13</th>\n",
       "      <td>0</td>\n",
       "      <td>14</td>\n",
       "      <td>11.140013</td>\n",
       "      <td>12.577117</td>\n",
       "      <td>-0.002281</td>\n",
       "      <td>-0.002587</td>\n",
       "    </tr>\n",
       "    <tr>\n",
       "      <th>14</th>\n",
       "      <td>0</td>\n",
       "      <td>15</td>\n",
       "      <td>11.138051</td>\n",
       "      <td>12.574211</td>\n",
       "      <td>-0.001977</td>\n",
       "      <td>-0.002391</td>\n",
       "    </tr>\n",
       "  </tbody>\n",
       "</table>\n",
       "</div>"
      ],
      "text/plain": [
       "    trajec  frame          x          y        vx        vy\n",
       "0        0      1  11.167238  12.610994 -0.001627 -0.001911\n",
       "1        0      2  11.165611  12.609083 -0.001776 -0.001797\n",
       "2        0      3  11.163685  12.607401 -0.002058 -0.001867\n",
       "3        0      4  11.161494  12.605349 -0.001820 -0.003029\n",
       "4        0      5  11.160046  12.601342 -0.001657 -0.003839\n",
       "5        0      6  11.158181  12.597671 -0.001686 -0.003085\n",
       "6        0      7  11.156674  12.595173 -0.001451 -0.002352\n",
       "7        0      8  11.155278  12.592968 -0.002612 -0.002867\n",
       "8        0      9  11.151451  12.589438 -0.002783 -0.002136\n",
       "9        0     10  11.149712  12.588696 -0.002744 -0.002464\n",
       "10       0     11  11.145962  12.584511 -0.002650 -0.002923\n",
       "11       0     12  11.144413  12.582850 -0.001674 -0.002563\n",
       "12       0     13  11.142614  12.579385 -0.002200 -0.002866\n",
       "13       0     14  11.140013  12.577117 -0.002281 -0.002587\n",
       "14       0     15  11.138051  12.574211 -0.001977 -0.002391"
      ]
     },
     "execution_count": 117,
     "metadata": {},
     "output_type": "execute_result"
    }
   ],
   "source": [
    "# Last 15 elements, in pickle format\n",
    "tabla[0:15]"
   ]
  },
  {
   "cell_type": "code",
   "execution_count": 85,
   "metadata": {
    "collapsed": false
   },
   "outputs": [
    {
     "name": "stdout",
     "output_type": "stream",
     "text": [
      "Number of frames: 20001\n",
      "Number of trajectories: 518\n"
     ]
    }
   ],
   "source": [
    "# NUMBER OF FRAMES and TRACKED TRAJECTORIES SAVED IN THE EXPERIMENT\n",
    "Nframes = np.max(tabla.frame)\n",
    "print 'Number of frames:', Nframes\n",
    "Ntrajec = np.max(tabla.trajec)\n",
    "print \"Number of trajectories:\",  Ntrajec"
   ]
  },
  {
   "cell_type": "code",
   "execution_count": 144,
   "metadata": {
    "collapsed": false
   },
   "outputs": [],
   "source": [
    "# PHYSICAL SCALES AND ORIGIN\n",
    "def re_pos_scale(ball):\n",
    "    \n",
    "    # COORDINATE ORIGIN: REGION OF INTEREST CENTER (RoI)\n",
    "    x0 = 0.5 * (np.max(tabla['x']) - np.min(tabla['x'])) + np.min(tabla['x'])\n",
    "    y0 = 0.5 * (np.max(tabla['y']) - np.min(tabla['y'])) + np.min(tabla['y'])\n",
    "    if (ball==0):\n",
    "        # px in mm\n",
    "        px_size = 0.71\n",
    "    else:\n",
    "        # px in ball diameter\n",
    "        px_size = 54.5\n",
    "\n",
    "    # physical time. time between frames\n",
    "    dt = 1/400.\n",
    "    d = { 'trajec': tabla.trajec, 'frame': tabla.frame, 't': tabla.frame*dt ,'x': tabla.x/px_size, 'y': tabla.y/px_size, \n",
    "         'vx': tabla.vx/(dt*px_size), 'vy': tabla.vy/(dt*px_size)}\n",
    "    rtabla = pd.DataFrame(data = d)\n",
    "    return rtabla"
   ]
  },
  {
   "cell_type": "code",
   "execution_count": 145,
   "metadata": {
    "collapsed": false
   },
   "outputs": [],
   "source": [
    "rtabla = re_pos_scale(0)"
   ]
  },
  {
   "cell_type": "code",
   "execution_count": 102,
   "metadata": {
    "collapsed": false
   },
   "outputs": [],
   "source": [
    "### BRIDGE TO VORONOI CODE ###\n",
    "# BUILD INSTANTANEOUS STATES OF THE SYSTEM\n",
    "\n",
    "state = [[] for i in range(Nframes)]\n",
    "\n",
    "def get_state(it, scaled):\n",
    "    if (scaled == 0):\n",
    "        st = tabla[ (tabla.frame == it) ]\n",
    "    else:\n",
    "        st = rtabla[ (rtabla.frame == it) ]\n",
    "    # reset row index (otherwise keeps chunks of the original table)\n",
    "    st = st.reset_index(drop=True)\n",
    "    cols = ['trajec', 'x', 'y','vx', 'vy']\n",
    "    st = st[cols]\n",
    "    return st\n",
    "\n",
    "def get_xy_from_state(it):\n",
    "    st = get_state(it)\n",
    "    cols = ['x','y']\n",
    "    xy = st[cols]\n",
    "    return xy"
   ]
  },
  {
   "cell_type": "code",
   "execution_count": 146,
   "metadata": {
    "collapsed": true
   },
   "outputs": [],
   "source": [
    "# build instantaneous states over all frames\n",
    "def get_all_states(Nframes, scaled):\n",
    "    for i in range(Nframes):\n",
    "        state[i] = get_state(i,scaled)\n",
    "        "
   ]
  },
  {
   "cell_type": "code",
   "execution_count": 135,
   "metadata": {
    "collapsed": true
   },
   "outputs": [],
   "source": [
    "it = 2\n",
    "\n",
    "state[it] = get_state(it,0)"
   ]
  },
  {
   "cell_type": "code",
   "execution_count": 99,
   "metadata": {
    "collapsed": false,
    "scrolled": true
   },
   "outputs": [
    {
     "data": {
      "text/html": [
       "<div>\n",
       "<table border=\"1\" class=\"dataframe\">\n",
       "  <thead>\n",
       "    <tr style=\"text-align: right;\">\n",
       "      <th></th>\n",
       "      <th>trajec</th>\n",
       "      <th>x</th>\n",
       "      <th>y</th>\n",
       "      <th>vx</th>\n",
       "      <th>vy</th>\n",
       "    </tr>\n",
       "  </thead>\n",
       "  <tbody>\n",
       "    <tr>\n",
       "      <th>0</th>\n",
       "      <td>0</td>\n",
       "      <td>15.455600</td>\n",
       "      <td>17.433198</td>\n",
       "      <td>-0.004346</td>\n",
       "      <td>-0.002199</td>\n",
       "    </tr>\n",
       "    <tr>\n",
       "      <th>1</th>\n",
       "      <td>1</td>\n",
       "      <td>14.492818</td>\n",
       "      <td>8.471479</td>\n",
       "      <td>-0.001596</td>\n",
       "      <td>-0.006005</td>\n",
       "    </tr>\n",
       "    <tr>\n",
       "      <th>2</th>\n",
       "      <td>2</td>\n",
       "      <td>20.002574</td>\n",
       "      <td>8.475141</td>\n",
       "      <td>0.006661</td>\n",
       "      <td>-0.006313</td>\n",
       "    </tr>\n",
       "    <tr>\n",
       "      <th>3</th>\n",
       "      <td>3</td>\n",
       "      <td>17.690129</td>\n",
       "      <td>9.081916</td>\n",
       "      <td>-0.006638</td>\n",
       "      <td>0.002602</td>\n",
       "    </tr>\n",
       "    <tr>\n",
       "      <th>4</th>\n",
       "      <td>4</td>\n",
       "      <td>24.003062</td>\n",
       "      <td>8.590749</td>\n",
       "      <td>-0.002141</td>\n",
       "      <td>-0.006660</td>\n",
       "    </tr>\n",
       "    <tr>\n",
       "      <th>5</th>\n",
       "      <td>5</td>\n",
       "      <td>10.565887</td>\n",
       "      <td>9.031907</td>\n",
       "      <td>-0.001332</td>\n",
       "      <td>-0.000761</td>\n",
       "    </tr>\n",
       "    <tr>\n",
       "      <th>6</th>\n",
       "      <td>6</td>\n",
       "      <td>12.717591</td>\n",
       "      <td>7.626989</td>\n",
       "      <td>-0.003640</td>\n",
       "      <td>-0.003583</td>\n",
       "    </tr>\n",
       "    <tr>\n",
       "      <th>7</th>\n",
       "      <td>7</td>\n",
       "      <td>21.400938</td>\n",
       "      <td>8.706862</td>\n",
       "      <td>-0.009360</td>\n",
       "      <td>0.003702</td>\n",
       "    </tr>\n",
       "    <tr>\n",
       "      <th>8</th>\n",
       "      <td>8</td>\n",
       "      <td>16.739769</td>\n",
       "      <td>7.339530</td>\n",
       "      <td>0.005613</td>\n",
       "      <td>0.001574</td>\n",
       "    </tr>\n",
       "    <tr>\n",
       "      <th>9</th>\n",
       "      <td>9</td>\n",
       "      <td>18.670746</td>\n",
       "      <td>7.384095</td>\n",
       "      <td>-0.004441</td>\n",
       "      <td>-0.005375</td>\n",
       "    </tr>\n",
       "    <tr>\n",
       "      <th>10</th>\n",
       "      <td>10</td>\n",
       "      <td>14.856890</td>\n",
       "      <td>6.503135</td>\n",
       "      <td>0.001928</td>\n",
       "      <td>-0.013056</td>\n",
       "    </tr>\n",
       "    <tr>\n",
       "      <th>11</th>\n",
       "      <td>11</td>\n",
       "      <td>12.131403</td>\n",
       "      <td>5.951257</td>\n",
       "      <td>0.008034</td>\n",
       "      <td>-0.002485</td>\n",
       "    </tr>\n",
       "    <tr>\n",
       "      <th>12</th>\n",
       "      <td>12</td>\n",
       "      <td>9.693965</td>\n",
       "      <td>5.790384</td>\n",
       "      <td>0.001360</td>\n",
       "      <td>-0.004288</td>\n",
       "    </tr>\n",
       "    <tr>\n",
       "      <th>13</th>\n",
       "      <td>13</td>\n",
       "      <td>23.272276</td>\n",
       "      <td>10.030960</td>\n",
       "      <td>-0.000327</td>\n",
       "      <td>-0.003362</td>\n",
       "    </tr>\n",
       "    <tr>\n",
       "      <th>14</th>\n",
       "      <td>14</td>\n",
       "      <td>18.268989</td>\n",
       "      <td>5.730467</td>\n",
       "      <td>-0.000330</td>\n",
       "      <td>-0.000242</td>\n",
       "    </tr>\n",
       "    <tr>\n",
       "      <th>15</th>\n",
       "      <td>15</td>\n",
       "      <td>20.066481</td>\n",
       "      <td>5.830273</td>\n",
       "      <td>0.000298</td>\n",
       "      <td>0.003420</td>\n",
       "    </tr>\n",
       "    <tr>\n",
       "      <th>16</th>\n",
       "      <td>16</td>\n",
       "      <td>13.330839</td>\n",
       "      <td>4.811181</td>\n",
       "      <td>0.002190</td>\n",
       "      <td>-0.008342</td>\n",
       "    </tr>\n",
       "    <tr>\n",
       "      <th>17</th>\n",
       "      <td>17</td>\n",
       "      <td>16.319782</td>\n",
       "      <td>5.897795</td>\n",
       "      <td>-0.006516</td>\n",
       "      <td>0.006090</td>\n",
       "    </tr>\n",
       "    <tr>\n",
       "      <th>18</th>\n",
       "      <td>18</td>\n",
       "      <td>15.579664</td>\n",
       "      <td>3.990457</td>\n",
       "      <td>-0.002388</td>\n",
       "      <td>0.002092</td>\n",
       "    </tr>\n",
       "    <tr>\n",
       "      <th>19</th>\n",
       "      <td>19</td>\n",
       "      <td>11.103473</td>\n",
       "      <td>4.030407</td>\n",
       "      <td>0.004725</td>\n",
       "      <td>-0.000781</td>\n",
       "    </tr>\n",
       "    <tr>\n",
       "      <th>20</th>\n",
       "      <td>20</td>\n",
       "      <td>22.062666</td>\n",
       "      <td>4.352590</td>\n",
       "      <td>-0.002702</td>\n",
       "      <td>0.003371</td>\n",
       "    </tr>\n",
       "    <tr>\n",
       "      <th>21</th>\n",
       "      <td>21</td>\n",
       "      <td>18.016118</td>\n",
       "      <td>3.867924</td>\n",
       "      <td>0.002674</td>\n",
       "      <td>-0.000612</td>\n",
       "    </tr>\n",
       "    <tr>\n",
       "      <th>22</th>\n",
       "      <td>22</td>\n",
       "      <td>19.599503</td>\n",
       "      <td>3.956358</td>\n",
       "      <td>0.002655</td>\n",
       "      <td>0.004927</td>\n",
       "    </tr>\n",
       "    <tr>\n",
       "      <th>23</th>\n",
       "      <td>23</td>\n",
       "      <td>14.554982</td>\n",
       "      <td>2.676334</td>\n",
       "      <td>-0.000352</td>\n",
       "      <td>-0.001288</td>\n",
       "    </tr>\n",
       "    <tr>\n",
       "      <th>24</th>\n",
       "      <td>24</td>\n",
       "      <td>20.362880</td>\n",
       "      <td>2.253661</td>\n",
       "      <td>-0.003197</td>\n",
       "      <td>0.001813</td>\n",
       "    </tr>\n",
       "    <tr>\n",
       "      <th>25</th>\n",
       "      <td>25</td>\n",
       "      <td>16.652240</td>\n",
       "      <td>2.471035</td>\n",
       "      <td>0.006906</td>\n",
       "      <td>-0.001884</td>\n",
       "    </tr>\n",
       "    <tr>\n",
       "      <th>26</th>\n",
       "      <td>26</td>\n",
       "      <td>18.109893</td>\n",
       "      <td>1.859249</td>\n",
       "      <td>0.001482</td>\n",
       "      <td>-0.004032</td>\n",
       "    </tr>\n",
       "    <tr>\n",
       "      <th>27</th>\n",
       "      <td>27</td>\n",
       "      <td>21.677015</td>\n",
       "      <td>6.065960</td>\n",
       "      <td>-0.000768</td>\n",
       "      <td>0.004528</td>\n",
       "    </tr>\n",
       "    <tr>\n",
       "      <th>28</th>\n",
       "      <td>28</td>\n",
       "      <td>15.932858</td>\n",
       "      <td>9.417440</td>\n",
       "      <td>-0.000661</td>\n",
       "      <td>-0.013706</td>\n",
       "    </tr>\n",
       "    <tr>\n",
       "      <th>29</th>\n",
       "      <td>29</td>\n",
       "      <td>22.914982</td>\n",
       "      <td>7.082218</td>\n",
       "      <td>-0.008134</td>\n",
       "      <td>0.008449</td>\n",
       "    </tr>\n",
       "    <tr>\n",
       "      <th>30</th>\n",
       "      <td>30</td>\n",
       "      <td>20.122756</td>\n",
       "      <td>10.389759</td>\n",
       "      <td>0.005661</td>\n",
       "      <td>-0.001429</td>\n",
       "    </tr>\n",
       "    <tr>\n",
       "      <th>31</th>\n",
       "      <td>31</td>\n",
       "      <td>10.173757</td>\n",
       "      <td>11.067647</td>\n",
       "      <td>-0.004836</td>\n",
       "      <td>0.007637</td>\n",
       "    </tr>\n",
       "    <tr>\n",
       "      <th>32</th>\n",
       "      <td>32</td>\n",
       "      <td>17.532678</td>\n",
       "      <td>17.971625</td>\n",
       "      <td>-0.000220</td>\n",
       "      <td>0.008679</td>\n",
       "    </tr>\n",
       "    <tr>\n",
       "      <th>33</th>\n",
       "      <td>33</td>\n",
       "      <td>19.131060</td>\n",
       "      <td>17.612698</td>\n",
       "      <td>0.001080</td>\n",
       "      <td>0.005659</td>\n",
       "    </tr>\n",
       "    <tr>\n",
       "      <th>34</th>\n",
       "      <td>34</td>\n",
       "      <td>13.545617</td>\n",
       "      <td>16.246142</td>\n",
       "      <td>-0.001158</td>\n",
       "      <td>-0.001009</td>\n",
       "    </tr>\n",
       "    <tr>\n",
       "      <th>35</th>\n",
       "      <td>35</td>\n",
       "      <td>20.267996</td>\n",
       "      <td>15.937328</td>\n",
       "      <td>-0.005906</td>\n",
       "      <td>-0.000064</td>\n",
       "    </tr>\n",
       "    <tr>\n",
       "      <th>36</th>\n",
       "      <td>36</td>\n",
       "      <td>17.078220</td>\n",
       "      <td>16.149182</td>\n",
       "      <td>-0.008729</td>\n",
       "      <td>0.001994</td>\n",
       "    </tr>\n",
       "    <tr>\n",
       "      <th>37</th>\n",
       "      <td>37</td>\n",
       "      <td>15.184449</td>\n",
       "      <td>15.571544</td>\n",
       "      <td>0.000280</td>\n",
       "      <td>-0.001450</td>\n",
       "    </tr>\n",
       "    <tr>\n",
       "      <th>38</th>\n",
       "      <td>38</td>\n",
       "      <td>18.568792</td>\n",
       "      <td>16.069066</td>\n",
       "      <td>-0.008106</td>\n",
       "      <td>0.003408</td>\n",
       "    </tr>\n",
       "    <tr>\n",
       "      <th>39</th>\n",
       "      <td>39</td>\n",
       "      <td>21.747028</td>\n",
       "      <td>15.685303</td>\n",
       "      <td>-0.005470</td>\n",
       "      <td>0.003279</td>\n",
       "    </tr>\n",
       "    <tr>\n",
       "      <th>40</th>\n",
       "      <td>40</td>\n",
       "      <td>16.648320</td>\n",
       "      <td>13.914552</td>\n",
       "      <td>-0.000928</td>\n",
       "      <td>-0.000509</td>\n",
       "    </tr>\n",
       "    <tr>\n",
       "      <th>41</th>\n",
       "      <td>41</td>\n",
       "      <td>20.033552</td>\n",
       "      <td>13.945755</td>\n",
       "      <td>0.001013</td>\n",
       "      <td>-0.000671</td>\n",
       "    </tr>\n",
       "    <tr>\n",
       "      <th>42</th>\n",
       "      <td>42</td>\n",
       "      <td>22.101362</td>\n",
       "      <td>14.147179</td>\n",
       "      <td>-0.001743</td>\n",
       "      <td>-0.000896</td>\n",
       "    </tr>\n",
       "    <tr>\n",
       "      <th>43</th>\n",
       "      <td>43</td>\n",
       "      <td>12.412401</td>\n",
       "      <td>13.712530</td>\n",
       "      <td>0.000567</td>\n",
       "      <td>0.000782</td>\n",
       "    </tr>\n",
       "    <tr>\n",
       "      <th>44</th>\n",
       "      <td>44</td>\n",
       "      <td>11.457687</td>\n",
       "      <td>15.155339</td>\n",
       "      <td>-0.006158</td>\n",
       "      <td>-0.004432</td>\n",
       "    </tr>\n",
       "    <tr>\n",
       "      <th>45</th>\n",
       "      <td>45</td>\n",
       "      <td>24.632828</td>\n",
       "      <td>11.003565</td>\n",
       "      <td>-0.000551</td>\n",
       "      <td>0.000538</td>\n",
       "    </tr>\n",
       "    <tr>\n",
       "      <th>46</th>\n",
       "      <td>46</td>\n",
       "      <td>21.573801</td>\n",
       "      <td>10.595122</td>\n",
       "      <td>0.000958</td>\n",
       "      <td>-0.002355</td>\n",
       "    </tr>\n",
       "    <tr>\n",
       "      <th>47</th>\n",
       "      <td>47</td>\n",
       "      <td>23.587919</td>\n",
       "      <td>13.611791</td>\n",
       "      <td>0.006230</td>\n",
       "      <td>0.004652</td>\n",
       "    </tr>\n",
       "    <tr>\n",
       "      <th>48</th>\n",
       "      <td>48</td>\n",
       "      <td>15.838685</td>\n",
       "      <td>11.081542</td>\n",
       "      <td>0.005761</td>\n",
       "      <td>-0.006987</td>\n",
       "    </tr>\n",
       "    <tr>\n",
       "      <th>49</th>\n",
       "      <td>49</td>\n",
       "      <td>11.982987</td>\n",
       "      <td>11.881106</td>\n",
       "      <td>-0.004100</td>\n",
       "      <td>-0.003419</td>\n",
       "    </tr>\n",
       "    <tr>\n",
       "      <th>50</th>\n",
       "      <td>50</td>\n",
       "      <td>18.803961</td>\n",
       "      <td>11.313756</td>\n",
       "      <td>0.003981</td>\n",
       "      <td>-0.003524</td>\n",
       "    </tr>\n",
       "    <tr>\n",
       "      <th>51</th>\n",
       "      <td>51</td>\n",
       "      <td>10.097160</td>\n",
       "      <td>13.162539</td>\n",
       "      <td>-0.000963</td>\n",
       "      <td>0.006061</td>\n",
       "    </tr>\n",
       "    <tr>\n",
       "      <th>52</th>\n",
       "      <td>52</td>\n",
       "      <td>22.922309</td>\n",
       "      <td>12.287470</td>\n",
       "      <td>0.008499</td>\n",
       "      <td>-0.001092</td>\n",
       "    </tr>\n",
       "    <tr>\n",
       "      <th>53</th>\n",
       "      <td>53</td>\n",
       "      <td>21.243536</td>\n",
       "      <td>12.293496</td>\n",
       "      <td>0.003900</td>\n",
       "      <td>-0.003663</td>\n",
       "    </tr>\n",
       "    <tr>\n",
       "      <th>54</th>\n",
       "      <td>55</td>\n",
       "      <td>14.151083</td>\n",
       "      <td>12.875932</td>\n",
       "      <td>-0.003451</td>\n",
       "      <td>-0.002855</td>\n",
       "    </tr>\n",
       "    <tr>\n",
       "      <th>55</th>\n",
       "      <td>56</td>\n",
       "      <td>18.435430</td>\n",
       "      <td>14.040182</td>\n",
       "      <td>0.001031</td>\n",
       "      <td>0.006156</td>\n",
       "    </tr>\n",
       "    <tr>\n",
       "      <th>56</th>\n",
       "      <td>57</td>\n",
       "      <td>17.280040</td>\n",
       "      <td>12.136600</td>\n",
       "      <td>0.001862</td>\n",
       "      <td>-0.003110</td>\n",
       "    </tr>\n",
       "    <tr>\n",
       "      <th>57</th>\n",
       "      <td>58</td>\n",
       "      <td>24.853369</td>\n",
       "      <td>7.446307</td>\n",
       "      <td>-0.001627</td>\n",
       "      <td>0.006170</td>\n",
       "    </tr>\n",
       "  </tbody>\n",
       "</table>\n",
       "</div>"
      ],
      "text/plain": [
       "    trajec          x          y        vx        vy\n",
       "0        0  15.455600  17.433198 -0.004346 -0.002199\n",
       "1        1  14.492818   8.471479 -0.001596 -0.006005\n",
       "2        2  20.002574   8.475141  0.006661 -0.006313\n",
       "3        3  17.690129   9.081916 -0.006638  0.002602\n",
       "4        4  24.003062   8.590749 -0.002141 -0.006660\n",
       "5        5  10.565887   9.031907 -0.001332 -0.000761\n",
       "6        6  12.717591   7.626989 -0.003640 -0.003583\n",
       "7        7  21.400938   8.706862 -0.009360  0.003702\n",
       "8        8  16.739769   7.339530  0.005613  0.001574\n",
       "9        9  18.670746   7.384095 -0.004441 -0.005375\n",
       "10      10  14.856890   6.503135  0.001928 -0.013056\n",
       "11      11  12.131403   5.951257  0.008034 -0.002485\n",
       "12      12   9.693965   5.790384  0.001360 -0.004288\n",
       "13      13  23.272276  10.030960 -0.000327 -0.003362\n",
       "14      14  18.268989   5.730467 -0.000330 -0.000242\n",
       "15      15  20.066481   5.830273  0.000298  0.003420\n",
       "16      16  13.330839   4.811181  0.002190 -0.008342\n",
       "17      17  16.319782   5.897795 -0.006516  0.006090\n",
       "18      18  15.579664   3.990457 -0.002388  0.002092\n",
       "19      19  11.103473   4.030407  0.004725 -0.000781\n",
       "20      20  22.062666   4.352590 -0.002702  0.003371\n",
       "21      21  18.016118   3.867924  0.002674 -0.000612\n",
       "22      22  19.599503   3.956358  0.002655  0.004927\n",
       "23      23  14.554982   2.676334 -0.000352 -0.001288\n",
       "24      24  20.362880   2.253661 -0.003197  0.001813\n",
       "25      25  16.652240   2.471035  0.006906 -0.001884\n",
       "26      26  18.109893   1.859249  0.001482 -0.004032\n",
       "27      27  21.677015   6.065960 -0.000768  0.004528\n",
       "28      28  15.932858   9.417440 -0.000661 -0.013706\n",
       "29      29  22.914982   7.082218 -0.008134  0.008449\n",
       "30      30  20.122756  10.389759  0.005661 -0.001429\n",
       "31      31  10.173757  11.067647 -0.004836  0.007637\n",
       "32      32  17.532678  17.971625 -0.000220  0.008679\n",
       "33      33  19.131060  17.612698  0.001080  0.005659\n",
       "34      34  13.545617  16.246142 -0.001158 -0.001009\n",
       "35      35  20.267996  15.937328 -0.005906 -0.000064\n",
       "36      36  17.078220  16.149182 -0.008729  0.001994\n",
       "37      37  15.184449  15.571544  0.000280 -0.001450\n",
       "38      38  18.568792  16.069066 -0.008106  0.003408\n",
       "39      39  21.747028  15.685303 -0.005470  0.003279\n",
       "40      40  16.648320  13.914552 -0.000928 -0.000509\n",
       "41      41  20.033552  13.945755  0.001013 -0.000671\n",
       "42      42  22.101362  14.147179 -0.001743 -0.000896\n",
       "43      43  12.412401  13.712530  0.000567  0.000782\n",
       "44      44  11.457687  15.155339 -0.006158 -0.004432\n",
       "45      45  24.632828  11.003565 -0.000551  0.000538\n",
       "46      46  21.573801  10.595122  0.000958 -0.002355\n",
       "47      47  23.587919  13.611791  0.006230  0.004652\n",
       "48      48  15.838685  11.081542  0.005761 -0.006987\n",
       "49      49  11.982987  11.881106 -0.004100 -0.003419\n",
       "50      50  18.803961  11.313756  0.003981 -0.003524\n",
       "51      51  10.097160  13.162539 -0.000963  0.006061\n",
       "52      52  22.922309  12.287470  0.008499 -0.001092\n",
       "53      53  21.243536  12.293496  0.003900 -0.003663\n",
       "54      55  14.151083  12.875932 -0.003451 -0.002855\n",
       "55      56  18.435430  14.040182  0.001031  0.006156\n",
       "56      57  17.280040  12.136600  0.001862 -0.003110\n",
       "57      58  24.853369   7.446307 -0.001627  0.006170"
      ]
     },
     "execution_count": 99,
     "metadata": {},
     "output_type": "execute_result"
    }
   ],
   "source": [
    "# STRUCTURE OF state[it]\n",
    "\n",
    "state[it]"
   ]
  },
  {
   "cell_type": "code",
   "execution_count": 136,
   "metadata": {
    "collapsed": false
   },
   "outputs": [
    {
     "data": {
      "text/html": [
       "<div>\n",
       "<table border=\"1\" class=\"dataframe\">\n",
       "  <thead>\n",
       "    <tr style=\"text-align: right;\">\n",
       "      <th></th>\n",
       "      <th>trajec</th>\n",
       "      <th>x</th>\n",
       "      <th>y</th>\n",
       "      <th>vx</th>\n",
       "      <th>vy</th>\n",
       "    </tr>\n",
       "  </thead>\n",
       "  <tbody>\n",
       "    <tr>\n",
       "      <th>1</th>\n",
       "      <td>1</td>\n",
       "      <td>10.177911</td>\n",
       "      <td>6.540596</td>\n",
       "      <td>0.001703</td>\n",
       "      <td>-0.004353</td>\n",
       "    </tr>\n",
       "  </tbody>\n",
       "</table>\n",
       "</div>"
      ],
      "text/plain": [
       "   trajec          x         y        vx        vy\n",
       "1       1  10.177911  6.540596  0.001703 -0.004353"
      ]
     },
     "execution_count": 136,
     "metadata": {},
     "output_type": "execute_result"
    }
   ],
   "source": [
    "state[1][1:2]"
   ]
  },
  {
   "cell_type": "code",
   "execution_count": 137,
   "metadata": {
    "collapsed": false
   },
   "outputs": [
    {
     "data": {
      "text/html": [
       "<div>\n",
       "<table border=\"1\" class=\"dataframe\">\n",
       "  <thead>\n",
       "    <tr style=\"text-align: right;\">\n",
       "      <th></th>\n",
       "      <th>trajec</th>\n",
       "      <th>x</th>\n",
       "      <th>y</th>\n",
       "      <th>vx</th>\n",
       "      <th>vy</th>\n",
       "    </tr>\n",
       "  </thead>\n",
       "  <tbody>\n",
       "    <tr>\n",
       "      <th>1</th>\n",
       "      <td>1</td>\n",
       "      <td>10.179614</td>\n",
       "      <td>6.536243</td>\n",
       "      <td>0.002043</td>\n",
       "      <td>-0.004878</td>\n",
       "    </tr>\n",
       "  </tbody>\n",
       "</table>\n",
       "</div>"
      ],
      "text/plain": [
       "   trajec          x         y        vx        vy\n",
       "1       1  10.179614  6.536243  0.002043 -0.004878"
      ]
     },
     "execution_count": 137,
     "metadata": {},
     "output_type": "execute_result"
    }
   ],
   "source": [
    "state[2][1:2]"
   ]
  },
  {
   "cell_type": "code",
   "execution_count": 142,
   "metadata": {
    "collapsed": false
   },
   "outputs": [
    {
     "data": {
      "text/plain": [
       "0.6812000000003593"
      ]
     },
     "execution_count": 142,
     "metadata": {},
     "output_type": "execute_result"
    }
   ],
   "source": [
    "(10.179614-10.177911)/(1/400.)"
   ]
  },
  {
   "cell_type": "code",
   "execution_count": 100,
   "metadata": {
    "collapsed": false
   },
   "outputs": [
    {
     "data": {
      "text/plain": [
       "<matplotlib.collections.PathCollection at 0x7f78075ba110>"
      ]
     },
     "execution_count": 100,
     "metadata": {},
     "output_type": "execute_result"
    },
    {
     "data": {
      "image/png": "[encoded data removed]",
      "text/plain": [
       "<matplotlib.figure.Figure at 0x7f7808599250>"
      ]
     },
     "metadata": {},
     "output_type": "display_data"
    }
   ],
   "source": [
    "# DRAW INSTANTANEOUS STATE\n",
    "\n",
    "fig=plt.figure(0, figsize=(5,5))\n",
    "\n",
    "plt.xlabel(r'$x$')\n",
    "plt.ylabel(r'$y$')\n",
    "\n",
    "plt.scatter(state[it].x, state[it].y, color='olive', s=(21.*72./fig.dpi)**2\n",
    "            , edgecolors='k', alpha=0.75)"
   ]
  },
  {
   "cell_type": "code",
   "execution_count": 147,
   "metadata": {
    "collapsed": false
   },
   "outputs": [],
   "source": [
    "get_all_states(Nframes,1)"
   ]
  },
  {
   "cell_type": "code",
   "execution_count": 119,
   "metadata": {
    "collapsed": false
   },
   "outputs": [
    {
     "data": {
      "text/plain": [
       "[<matplotlib.lines.Line2D at 0x7f77f43b1090>]"
      ]
     },
     "execution_count": 119,
     "metadata": {},
     "output_type": "execute_result"
    },
    {
     "data": {
      "image/png": "[encoded data removed]",
      "text/plain": [
       "<matplotlib.figure.Figure at 0x7f77f4423cd0>"
      ]
     },
     "metadata": {},
     "output_type": "display_data"
    }
   ],
   "source": [
    "plt.plot([len(state[it]) for it in range(1,Nframes)],marker='o')"
   ]
  },
  {
   "cell_type": "code",
   "execution_count": 120,
   "metadata": {
    "collapsed": false
   },
   "outputs": [
    {
     "data": {
      "image/png": "[encoded data removed]",
      "text/plain": [
       "<matplotlib.figure.Figure at 0x7f77f4372550>"
      ]
     },
     "metadata": {},
     "output_type": "display_data"
    }
   ],
   "source": [
    "# Number of particles in each frame ROI. Histogram\n",
    "plt.figure(1)\n",
    "plt.title('Particles per frame')\n",
    "plt.xlabel(r'N')\n",
    "plt.hist([len(state[it]) for it in range(1,Nframes)]);"
   ]
  },
  {
   "cell_type": "code",
   "execution_count": 176,
   "metadata": {
    "collapsed": true
   },
   "outputs": [],
   "source": [
    "def del_short_trajec(nf):\n",
    "    global red_tabla, rNtrajec\n",
    "    rNtrajec = Ntrajec\n",
    "    red_tabla = tabla\n",
    "    for i in range(1,Ntrajec):\n",
    "        print(len(tabla[(red_tabla.trajec == i)]))\n",
    "        #if len(tabla[(red_tabla.frame == i)]) < nf:\n",
    "            #ids = red_tabla[ red_tabla.trajec == 0 ].index\n",
    "            #red_tabla.drop(ids , inplace=True)\n",
    "            #rNtrajec = rNtrajec - 1  "
   ]
  },
  {
   "cell_type": "code",
   "execution_count": 177,
   "metadata": {
    "collapsed": false
   },
   "outputs": [
    {
     "name": "stdout",
     "output_type": "stream",
     "text": [
      "0\n",
      "3545\n",
      "20001\n",
      "9472\n",
      "510\n",
      "5959\n",
      "6996\n",
      "20001\n",
      "13333\n",
      "4155\n",
      "1096\n",
      "4828\n",
      "559\n",
      "4682\n",
      "2955\n",
      "4409\n",
      "578\n",
      "2826\n",
      "743\n",
      "1364\n",
      "4445\n",
      "2164\n",
      "3797\n",
      "312\n",
      "1293\n",
      "536\n",
      "163\n",
      "1954\n",
      "11481\n",
      "6804\n",
      "10420\n",
      "6960\n",
      "140\n",
      "8681\n",
      "694\n",
      "1566\n",
      "8676\n",
      "9367\n",
      "2275\n",
      "2538\n",
      "5965\n",
      "12311\n",
      "2416\n",
      "9345\n",
      "5100\n",
      "830\n",
      "10284\n",
      "191\n",
      "10757\n",
      "7315\n",
      "20001\n",
      "385\n",
      "19870\n",
      "3126\n",
      "0\n",
      "8232\n",
      "20001\n",
      "20001\n",
      "245\n",
      "1076\n",
      "12317\n",
      "129\n",
      "3064\n",
      "919\n",
      "2458\n",
      "202\n",
      "343\n",
      "642\n",
      "64\n",
      "4547\n",
      "2146\n",
      "2825\n",
      "6770\n",
      "194\n",
      "102\n",
      "1840\n",
      "736\n",
      "318\n",
      "2666\n",
      "298\n",
      "2911\n",
      "610\n",
      "906\n",
      "897\n",
      "1176\n",
      "396\n",
      "69\n",
      "452\n",
      "1452\n",
      "359\n",
      "755\n",
      "0\n",
      "8\n",
      "1978\n",
      "75\n",
      "9422\n",
      "212\n",
      "5605\n",
      "430\n",
      "384\n",
      "3697\n",
      "176\n",
      "434\n",
      "1269\n",
      "254\n",
      "1492\n",
      "107\n",
      "495\n",
      "5685\n",
      "9076\n",
      "137\n",
      "10043\n",
      "970\n",
      "15016\n",
      "94\n",
      "109\n",
      "131\n",
      "572\n",
      "2794\n",
      "1282\n",
      "236\n",
      "178\n",
      "14676\n",
      "1020\n",
      "3619\n",
      "15849\n",
      "115\n",
      "928\n",
      "5841\n",
      "546\n",
      "16264\n",
      "1288\n",
      "256\n",
      "1303\n",
      "3543\n",
      "5114\n",
      "4737\n",
      "68\n",
      "216\n",
      "182\n",
      "448\n",
      "36\n",
      "5\n",
      "210\n",
      "4201\n",
      "532\n",
      "516\n",
      "340\n",
      "636\n",
      "109\n",
      "182\n",
      "106\n",
      "5449\n",
      "1053\n",
      "0\n",
      "113\n",
      "0\n",
      "188\n",
      "830\n",
      "2517\n",
      "101\n",
      "2016\n",
      "407\n",
      "12907\n",
      "14040\n",
      "895\n",
      "126\n",
      "0\n",
      "146\n",
      "249\n",
      "87\n",
      "592\n",
      "258\n",
      "458\n",
      "6454\n",
      "382\n",
      "973\n",
      "502\n",
      "393\n",
      "83\n",
      "869\n",
      "1154\n",
      "369\n",
      "216\n",
      "4020\n",
      "4490\n",
      "6255\n",
      "160\n",
      "140\n",
      "175\n",
      "148\n",
      "2891\n",
      "0\n",
      "112\n",
      "0\n",
      "1810\n",
      "12\n",
      "13601\n",
      "559\n",
      "1119\n",
      "9787\n",
      "181\n",
      "979\n",
      "11551\n",
      "2251\n",
      "131\n",
      "6194\n",
      "342\n",
      "573\n",
      "319\n",
      "256\n",
      "12731\n",
      "123\n",
      "407\n",
      "12895\n",
      "1564\n",
      "604\n",
      "758\n",
      "0\n",
      "695\n",
      "140\n",
      "229\n",
      "881\n",
      "221\n",
      "68\n",
      "10687\n",
      "2257\n",
      "252\n",
      "0\n",
      "43\n",
      "12036\n",
      "287\n",
      "1489\n",
      "764\n",
      "500\n",
      "2405\n",
      "11821\n",
      "7892\n",
      "908\n",
      "321\n",
      "3707\n",
      "74\n",
      "6969\n",
      "11337\n",
      "4171\n",
      "487\n",
      "10583\n",
      "11121\n",
      "365\n",
      "985\n",
      "701\n",
      "211\n",
      "10973\n",
      "783\n",
      "1553\n",
      "226\n",
      "10576\n",
      "232\n",
      "1140\n",
      "4247\n",
      "1021\n",
      "373\n",
      "41\n",
      "3070\n",
      "7363\n",
      "270\n",
      "4872\n",
      "131\n",
      "141\n",
      "633\n",
      "65\n",
      "420\n",
      "895\n",
      "357\n",
      "235\n",
      "114\n",
      "1126\n",
      "266\n",
      "185\n",
      "540\n",
      "171\n",
      "791\n",
      "0\n",
      "832\n",
      "9363\n",
      "37\n",
      "213\n",
      "179\n",
      "440\n",
      "152\n",
      "896\n",
      "119\n",
      "1572\n",
      "865\n",
      "8676\n",
      "869\n",
      "712\n",
      "2323\n",
      "197\n",
      "71\n",
      "2835\n",
      "7\n",
      "0\n",
      "187\n",
      "2111\n",
      "571\n",
      "204\n",
      "322\n",
      "1680\n",
      "2827\n",
      "3927\n",
      "4751\n",
      "1414\n",
      "76\n",
      "593\n",
      "1485\n",
      "1439\n",
      "3000\n",
      "98\n",
      "55\n",
      "32\n",
      "5402\n",
      "1698\n",
      "3364\n",
      "33\n",
      "0\n",
      "968\n",
      "127\n",
      "651\n",
      "14\n",
      "271\n",
      "77\n",
      "0\n",
      "1767\n",
      "7379\n",
      "741\n",
      "20\n",
      "505\n",
      "407\n",
      "678\n",
      "4756\n",
      "3684\n",
      "97\n",
      "107\n",
      "3276\n",
      "733\n",
      "839\n",
      "615\n",
      "6599\n",
      "496\n",
      "122\n",
      "520\n",
      "4405\n",
      "968\n",
      "201\n",
      "802\n",
      "151\n",
      "312\n",
      "214\n",
      "6287\n",
      "47\n",
      "6271\n",
      "56\n",
      "276\n",
      "445\n",
      "2582\n",
      "460\n",
      "142\n",
      "0\n",
      "39\n",
      "3537\n",
      "6\n",
      "91\n",
      "73\n",
      "151\n",
      "1562\n",
      "469\n",
      "4158\n",
      "5545\n",
      "125\n",
      "922\n",
      "463\n",
      "803\n",
      "407\n",
      "148\n",
      "248\n",
      "66\n",
      "519\n",
      "203\n",
      "5234\n",
      "253\n",
      "0\n",
      "4645\n",
      "34\n",
      "517\n",
      "43\n",
      "4876\n",
      "83\n",
      "711\n",
      "207\n",
      "194\n",
      "297\n",
      "324\n",
      "50\n",
      "4581\n",
      "868\n",
      "3946\n",
      "552\n",
      "1234\n",
      "89\n",
      "4254\n",
      "3009\n",
      "305\n",
      "514\n",
      "1531\n",
      "4197\n",
      "282\n",
      "168\n",
      "144\n",
      "2709\n",
      "196\n",
      "132\n",
      "263\n",
      "181\n",
      "3770\n",
      "103\n",
      "3730\n",
      "61\n",
      "2729\n",
      "56\n",
      "205\n",
      "487\n",
      "493\n",
      "447\n",
      "253\n",
      "88\n",
      "533\n",
      "3217\n",
      "500\n",
      "485\n",
      "79\n",
      "464\n",
      "2905\n",
      "2244\n",
      "275\n",
      "88\n",
      "918\n",
      "127\n",
      "153\n",
      "407\n",
      "489\n",
      "285\n",
      "2427\n",
      "1506\n",
      "632\n",
      "366\n",
      "142\n",
      "200\n",
      "224\n",
      "416\n",
      "225\n",
      "2149\n",
      "72\n",
      "1975\n",
      "682\n",
      "97\n",
      "931\n",
      "68\n",
      "345\n",
      "196\n",
      "1771\n",
      "1704\n",
      "423\n",
      "96\n",
      "202\n",
      "1427\n",
      "769\n",
      "1470\n",
      "1453\n",
      "73\n",
      "250\n",
      "1333\n",
      "539\n",
      "1307\n",
      "1292\n",
      "125\n",
      "1004\n",
      "1079\n",
      "0\n",
      "970\n",
      "251\n",
      "251\n",
      "159\n",
      "92\n",
      "739\n",
      "733\n",
      "95\n",
      "0\n",
      "699\n",
      "345\n",
      "404\n",
      "400\n",
      "479\n",
      "429\n",
      "226\n",
      "66\n",
      "0\n",
      "7\n",
      "10\n",
      "4\n",
      "176\n",
      "156\n",
      "105\n",
      "85\n",
      "66\n",
      "40\n",
      "28\n",
      "14\n"
     ]
    }
   ],
   "source": [
    "del_short_trajec(100)"
   ]
  },
  {
   "cell_type": "code",
   "execution_count": 173,
   "metadata": {
    "collapsed": false
   },
   "outputs": [
    {
     "data": {
      "text/plain": [
       "518"
      ]
     },
     "execution_count": 173,
     "metadata": {},
     "output_type": "execute_result"
    }
   ],
   "source": [
    "Ntrajec"
   ]
  },
  {
   "cell_type": "code",
   "execution_count": 9,
   "metadata": {
    "collapsed": false
   },
   "outputs": [
    {
     "data": {
      "text/plain": [
       "425"
      ]
     },
     "execution_count": 9,
     "metadata": {},
     "output_type": "execute_result"
    }
   ],
   "source": [
    "# Number of sufficiently long trajectories (length > trajec_length_cut)\n",
    "Ntrajec"
   ]
  },
  {
   "cell_type": "code",
   "execution_count": 172,
   "metadata": {
    "collapsed": false
   },
   "outputs": [
    {
     "data": {
      "image/png": "[encoded data removed]",
      "text/plain": [
       "<matplotlib.figure.Figure at 0x7f95124d1290>"
      ]
     },
     "metadata": {},
     "output_type": "display_data"
    }
   ],
   "source": [
    "# Histogram of trajectory length\n",
    "plt.figure(2)\n",
    "plt.title('Trajectory lengths')\n",
    "# set upper height limit for histogram\n",
    "plt.ylim((0,100))\n",
    "# number of bins\n",
    "nbins = 25\n",
    "#plot\n",
    "plt.hist([len(t[i]) for i in range(Ntrajec)], nbins, color='b');"
   ]
  },
  {
   "cell_type": "code",
   "execution_count": 173,
   "metadata": {
    "collapsed": false
   },
   "outputs": [
    {
     "data": {
      "text/plain": [
       "1113887"
      ]
     },
     "execution_count": 173,
     "metadata": {},
     "output_type": "execute_result"
    }
   ],
   "source": [
    "# Total number of analyzed states (after discard of short trajectories)\n",
    "np.sum([len(t[i]) for i in range(Ntrajec)])"
   ]
  },
  {
   "cell_type": "code",
   "execution_count": 148,
   "metadata": {
    "collapsed": false
   },
   "outputs": [
    {
     "ename": "NameError",
     "evalue": "name 't' is not defined",
     "output_type": "error",
     "traceback": [
      "\u001b[0;31m---------------------------------------------------------------------------\u001b[0m",
      "\u001b[0;31mNameError\u001b[0m                                 Traceback (most recent call last)",
      "\u001b[0;32m<ipython-input-148-2dc92f6d5dfb>\u001b[0m in \u001b[0;36m<module>\u001b[0;34m()\u001b[0m\n\u001b[1;32m      2\u001b[0m \u001b[0mt_last\u001b[0m \u001b[0;34m=\u001b[0m \u001b[0mnp\u001b[0m\u001b[0;34m.\u001b[0m\u001b[0mzeros\u001b[0m\u001b[0;34m(\u001b[0m\u001b[0mNtrajec\u001b[0m\u001b[0;34m)\u001b[0m\u001b[0;34m\u001b[0m\u001b[0m\n\u001b[1;32m      3\u001b[0m \u001b[0;32mfor\u001b[0m \u001b[0mi\u001b[0m \u001b[0;32min\u001b[0m \u001b[0mrange\u001b[0m\u001b[0;34m(\u001b[0m\u001b[0mNtrajec\u001b[0m\u001b[0;34m)\u001b[0m\u001b[0;34m:\u001b[0m\u001b[0;34m\u001b[0m\u001b[0m\n\u001b[0;32m----> 4\u001b[0;31m     \u001b[0mt_last\u001b[0m\u001b[0;34m[\u001b[0m\u001b[0mi\u001b[0m\u001b[0;34m]\u001b[0m \u001b[0;34m=\u001b[0m \u001b[0mt\u001b[0m\u001b[0;34m[\u001b[0m\u001b[0mi\u001b[0m\u001b[0;34m]\u001b[0m\u001b[0;34m[\u001b[0m\u001b[0;34m-\u001b[0m\u001b[0;36m1\u001b[0m\u001b[0;34m]\u001b[0m\u001b[0;34m\u001b[0m\u001b[0m\n\u001b[0m",
      "\u001b[0;31mNameError\u001b[0m: name 't' is not defined"
     ]
    }
   ],
   "source": [
    "# Build array of times where particles trackings are 'lost\n",
    "t_last = np.zeros(Ntrajec)\n",
    "for i in range(Ntrajec):\n",
    "    t_last[i] = t[i][-1]"
   ]
  },
  {
   "cell_type": "code",
   "execution_count": 175,
   "metadata": {
    "collapsed": false
   },
   "outputs": [
    {
     "data": {
      "text/plain": [
       "[<matplotlib.lines.Line2D at 0x7f94f34dff10>]"
      ]
     },
     "execution_count": 175,
     "metadata": {},
     "output_type": "execute_result"
    },
    {
     "data": {
      "image/png": "[encoded data removed]",
      "text/plain": [
       "<matplotlib.figure.Figure at 0x7f94f353f650>"
      ]
     },
     "metadata": {},
     "output_type": "display_data"
    }
   ],
   "source": [
    "plt.figure(3)\n",
    "plt.plot(t_last,marker='o',linewidth=0, markersize=1, color='r')"
   ]
  },
  {
   "cell_type": "code",
   "execution_count": 176,
   "metadata": {
    "collapsed": false
   },
   "outputs": [
    {
     "data": {
      "image/png": "[encoded data removed]",
      "text/plain": [
       "<matplotlib.figure.Figure at 0x7f94f349a5d0>"
      ]
     },
     "metadata": {},
     "output_type": "display_data"
    }
   ],
   "source": [
    "plt.figure(4)\n",
    "plt.title('Dying times')\n",
    "#number of bins\n",
    "nbins = 25\n",
    "#plot\n",
    "plt.hist(t_last, nbins, color = 'r');"
   ]
  },
  {
   "cell_type": "code",
   "execution_count": 17,
   "metadata": {
    "collapsed": false
   },
   "outputs": [
    {
     "data": {
      "text/plain": [
       "<matplotlib.collections.PathCollection at 0x7f2ff2496210>"
      ]
     },
     "execution_count": 17,
     "metadata": {},
     "output_type": "execute_result"
    },
    {
     "data": {
      "image/png": "[encoded data removed]",
      "text/plain": [
       "<matplotlib.figure.Figure at 0x7f2ff2218690>"
      ]
     },
     "metadata": {},
     "output_type": "display_data"
    }
   ],
   "source": [
    "points= plt.figure(5,figsize=(8,8))\n",
    "\n",
    "#size = 10\n",
    "jump = 10\n",
    "\n",
    "i_trajec = 45\n",
    "\n",
    "plt.title('particle trajectory')\n",
    "#plt.xlim((-size*0.5,size*0.5))\n",
    "#plt.ylim((-size*0.5,size*0.5))\n",
    "\n",
    "plt.xlabel('x(mm)')\n",
    "plt.ylabel('y(mm)')\n",
    "plt.scatter(x[i_trajec][::jump], y[i_trajec][::jump], \n",
    "            s=8, marker='o', c='r',edgecolors=None,linewidths=0)\n"
   ]
  },
  {
   "cell_type": "code",
   "execution_count": 30,
   "metadata": {
    "collapsed": false
   },
   "outputs": [
    {
     "data": {
      "image/png": "[encoded data removed]",
      "text/plain": [
       "<matplotlib.figure.Figure at 0x7f2ff06bd890>"
      ]
     },
     "metadata": {},
     "output_type": "display_data"
    }
   ],
   "source": [
    "plt.figure(6)\n",
    "plt.title('measured positions')\n",
    "plt.xlabel(r'$x, y~\\mathrm{(mm)}$')\n",
    "plt.hist((tabla.x -x0)/px_size, 100, color='g', alpha=0.75);\n",
    "#plt.figure(3)\n",
    "plt.hist((tabla.y -y0)/px_size, 100, color='y', alpha=0.5);"
   ]
  },
  {
   "cell_type": "code",
   "execution_count": 29,
   "metadata": {
    "collapsed": false
   },
   "outputs": [
    {
     "data": {
      "image/png": "[encoded data removed]",
      "text/plain": [
       "<matplotlib.figure.Figure at 0x7f2ff1f8f550>"
      ]
     },
     "metadata": {},
     "output_type": "display_data"
    }
   ],
   "source": [
    "plt.figure(7)\n",
    "plt.title('measured velocities')\n",
    "plt.xlabel(r'$v_x, v_y~\\mathrm{(mm/s)}$')\n",
    "plt.hist(tabla['vx']/px_size, 100,color='g',alpha=0.75);\n",
    "#plt.figure(5)\n",
    "plt.hist(tabla['vy']/px_size, 100,color='y',alpha=0.5);"
   ]
  },
  {
   "cell_type": "code",
   "execution_count": 182,
   "metadata": {
    "collapsed": false
   },
   "outputs": [
    {
     "data": {
      "text/plain": [
       "8.464796097731425e-06"
      ]
     },
     "execution_count": 182,
     "metadata": {},
     "output_type": "execute_result"
    }
   ],
   "source": [
    "# v_x VARIANCE (mm/s^2)\n",
    "np.var(tabla['vx'])"
   ]
  },
  {
   "cell_type": "code",
   "execution_count": 183,
   "metadata": {
    "collapsed": false
   },
   "outputs": [
    {
     "data": {
      "text/plain": [
       "-8.394719251547427e-05"
      ]
     },
     "execution_count": 183,
     "metadata": {},
     "output_type": "execute_result"
    }
   ],
   "source": [
    "# v_y VARIANCE (mm/s^2)\n",
    "np.mean(tabla['vy'])"
   ]
  }
 ],
 "metadata": {
  "kernelspec": {
   "display_name": "Python 3",
   "language": "python",
   "name": "python3"
  },
  "language_info": {
   "codemirror_mode": {
    "name": "ipython",
    "version": 2
   },
   "file_extension": ".py",
   "mimetype": "text/x-python",
   "name": "python",
   "nbconvert_exporter": "python",
   "pygments_lexer": "ipython2",
   "version": "2.7.13"
  }
 },
 "nbformat": 4,
 "nbformat_minor": 2
}
